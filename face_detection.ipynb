{
 "cells": [
  {
   "cell_type": "markdown",
   "source": [
    "# Example #\n",
    "This is an example notebook to show what `detect.py` does.\n",
    "The main task is to detect faces and store photos of this faces to detect them in future.\n",
    "\n",
    "To check by your own, please create `data` folder and `trained` and `photos` folders inside.\n",
    "So, in `trained` folder there must be `.xml` file with data for the model detecting faces. See [OpenCV github repo](https://github.com/opencv/opencv/tree/master/data/haarcascades) for more info.\n",
    "In `photos` folder, there must be your photos, then."
   ],
   "metadata": {
    "collapsed": false
   },
   "id": "a061bfb230692299"
  },
  {
   "cell_type": "code",
   "execution_count": null,
   "id": "initial_id",
   "metadata": {
    "collapsed": true
   },
   "outputs": [],
   "source": [
    "from detect import detect_faces, get_photo\n",
    "import matplotlib.pyplot as plt"
   ]
  },
  {
   "cell_type": "code",
   "execution_count": null,
   "outputs": [],
   "source": [
    "PHOTO_LIB = \"data/photos\"\n",
    "IMAGE_FILE_NAME = \"t.didenko@mail.ru.jpg\""
   ],
   "metadata": {
    "collapsed": false
   },
   "id": "f6c71e767291e911"
  },
  {
   "cell_type": "code",
   "execution_count": null,
   "outputs": [],
   "source": [
    "def show_image(image):\n",
    "    plt.figure()\n",
    "    plt.imshow(image)\n",
    "    plt.xticks([])\n",
    "    plt.yticks([])\n",
    "    plt.show()"
   ],
   "metadata": {
    "collapsed": false
   },
   "id": "4bc2d393a66c3de7"
  },
  {
   "cell_type": "code",
   "execution_count": null,
   "outputs": [],
   "source": [
    "show_image(get_photo(PHOTO_LIB, IMAGE_FILE_NAME))"
   ],
   "metadata": {
    "collapsed": false
   },
   "id": "41ae176a68ba2e55"
  },
  {
   "cell_type": "code",
   "execution_count": null,
   "outputs": [],
   "source": [
    "def show_images(images):\n",
    "    n = len(images)\n",
    "    fig, axs = plt.subplots(1, n)\n",
    "    \n",
    "    if n == 1:\n",
    "        image = images[0]\n",
    "        axs.imshow(image)\n",
    "        axs.axis('off')\n",
    "    else:    \n",
    "        for i, image in enumerate(images):\n",
    "            axs[i].imshow(image)\n",
    "            axs[i].axis('off')\n",
    "\n",
    "    plt.show()"
   ],
   "metadata": {
    "collapsed": false
   },
   "id": "86cf8d6f98f78a6e"
  },
  {
   "cell_type": "code",
   "execution_count": null,
   "outputs": [],
   "source": [
    "detected = detect_faces(get_photo(PHOTO_LIB, IMAGE_FILE_NAME))\n",
    "show_images(detected)"
   ],
   "metadata": {
    "collapsed": false
   },
   "id": "55370212095ff6b"
  }
 ],
 "metadata": {
  "kernelspec": {
   "display_name": "Python 3",
   "language": "python",
   "name": "python3"
  },
  "language_info": {
   "codemirror_mode": {
    "name": "ipython",
    "version": 2
   },
   "file_extension": ".py",
   "mimetype": "text/x-python",
   "name": "python",
   "nbconvert_exporter": "python",
   "pygments_lexer": "ipython2",
   "version": "2.7.6"
  }
 },
 "nbformat": 4,
 "nbformat_minor": 5
}
